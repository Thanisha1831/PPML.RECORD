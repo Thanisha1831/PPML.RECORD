import numpy as np

# Generate random data
data = np.random.randn(1000)  # 1000 random data points from a standard normal distribution

# Calculate basic statistics
mean = np.mean(data)
median = np.median(data)
std_dev = np.std(data)
variance = np.var(data)
max_value = np.max(data)
min_value = np.min(data)

# Apply mathematical formulas
sum_of_squares = np.sum(data**2)
sqrt_data = np.sqrt(np.abs(data))  # Take square root of absolute values to avoid complex numbers

# Output the results
print("Generated Data (first 10 points):", data[:10])
print("Mean:", mean)
print("Median:", median)
print("Standard Deviation:", std_dev)
print("Variance:", variance)
print("Max Value:", max_value)
print("Min Value:", min_value)
print("Sum of Squares:", sum_of_squares)
print("Square Roots of Absolute Values (first 10 points):", sqrt_data[:10])
